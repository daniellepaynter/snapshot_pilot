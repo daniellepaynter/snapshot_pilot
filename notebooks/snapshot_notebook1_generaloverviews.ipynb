{
 "cells": [
  {
   "cell_type": "markdown",
   "metadata": {},
   "source": [
    "### Snapshot pilot data processing script\n",
    "Uses snapshot_dataproc_mod and the spreadsheet stored at **I:\\DaniellePaynter\\InVivoTTTPilots\\snapshot_4OHT_pilot\\data\\processed\\SS_data_collector.xlsx**\n",
    "which contains: list of mice/slides/slices obtained through snapshot pilot experiment, raw cell counts by slice, basic histology info, and the 4OHT dosage the mouse received.\n",
    "\n",
    "Green = gfp (both refer to eGFP fluorophore)\n",
    "\n",
    "Red = tom (both refer to tdTomato fluorophore)\n",
    "\n",
    "@author: dpaynter"
   ]
  },
  {
   "cell_type": "markdown",
   "metadata": {},
   "source": [
    "First, add the location of **snapshotpilot_dataproc_mod** module to the path:"
   ]
  },
  {
   "cell_type": "code",
   "execution_count": 1,
   "metadata": {},
   "outputs": [],
   "source": [
    "import sys\n",
    "sys.path.insert(1, r'I:\\Danielle Paynter\\InVivoTTTPilots\\snapshot_4OHT_pilot\\src\\data')"
   ]
  },
  {
   "cell_type": "markdown",
   "metadata": {},
   "source": [
    "Then import everything else:"
   ]
  },
  {
   "cell_type": "code",
   "execution_count": 2,
   "metadata": {},
   "outputs": [],
   "source": [
    "import snapshotpilot_dataproc_mod as ssp\n",
    "import matplotlib\n",
    "import matplotlib.pyplot as plt\n",
    "import numpy as np\n",
    "import pandas as pd"
   ]
  },
  {
   "cell_type": "markdown",
   "metadata": {},
   "source": [
    "Set the location of 'SS_data_collector.xlsx' as datapath:"
   ]
  },
  {
   "cell_type": "code",
   "execution_count": 3,
   "metadata": {},
   "outputs": [],
   "source": [
    "datapath = r'I:\\Danielle Paynter\\InVivoTTTPilots\\snapshot_4OHT_pilot\\data\\processed\\SS_data_collector.xlsx'"
   ]
  },
  {
   "cell_type": "markdown",
   "metadata": {},
   "source": [
    "Create an object for each mouse:"
   ]
  },
  {
   "cell_type": "code",
   "execution_count": 4,
   "metadata": {},
   "outputs": [],
   "source": [
    "DP_210202A = ssp.snapshot_mouse(\"DP_210202A\", datapath)\n",
    "DP_210202B = ssp.snapshot_mouse(\"DP_210202B\", datapath)\n",
    "DP_210202C = ssp.snapshot_mouse(\"DP_210202C\", datapath)\n",
    "DP_210202D = ssp.snapshot_mouse(\"DP_210202D\", datapath)\n",
    "DP_210203A = ssp.snapshot_mouse(\"DP_210203A\", datapath)\n",
    "DP_210203B = ssp.snapshot_mouse(\"DP_210203B\", datapath)\n",
    "DP_210308A = ssp.snapshot_mouse(\"DP_210308A\", datapath)\n",
    "DP_210308B = ssp.snapshot_mouse(\"DP_210308B\", datapath)\n",
    "DP_210308C = ssp.snapshot_mouse(\"DP_210308C\", datapath)\n",
    "DP_210416A = ssp.snapshot_mouse(\"DP_210416A\", datapath)\n",
    "DP_210416B = ssp.snapshot_mouse(\"DP_210416B\", datapath)\n",
    "DP_210417 = ssp.snapshot_mouse(\"DP_210417\", datapath)"
   ]
  },
  {
   "cell_type": "markdown",
   "metadata": {},
   "source": [
    "Create a concatenated dataframe for all mice:"
   ]
  },
  {
   "cell_type": "code",
   "execution_count": 5,
   "metadata": {},
   "outputs": [],
   "source": [
    "all_mice_df = ssp.concat_dfs([DP_210202A.mouse_df, DP_210202B.mouse_df, DP_210202C.mouse_df,\n",
    "                              DP_210202D.mouse_df, DP_210203A.mouse_df, DP_210203B.mouse_df,\n",
    "                              DP_210308A.mouse_df, DP_210308B.mouse_df, DP_210308C.mouse_df,\n",
    "                              DP_210416A.mouse_df, DP_210416B.mouse_df, DP_210417.mouse_df])"
   ]
  },
  {
   "cell_type": "markdown",
   "metadata": {},
   "source": [
    "Get single-labeled cell proportions for each mouse:"
   ]
  },
  {
   "cell_type": "code",
   "execution_count": 6,
   "metadata": {},
   "outputs": [],
   "source": [
    "DP_210202A_green_prop = DP_210202A.green_only_prop\n",
    "DP_210202B_green_prop = DP_210202B.green_only_prop\n",
    "DP_210202C_green_prop = DP_210202C.green_only_prop\n",
    "DP_210202D_green_prop = DP_210202D.green_only_prop\n",
    "DP_210203A_green_prop = DP_210203A.green_only_prop\n",
    "DP_210203B_green_prop = DP_210203B.green_only_prop\n",
    "DP_210308A_green_prop = DP_210308A.green_only_prop\n",
    "DP_210308B_green_prop = DP_210308B.green_only_prop\n",
    "DP_210308C_green_prop = DP_210308C.green_only_prop\n",
    "DP_210416A_green_prop = DP_210416A.green_only_prop\n",
    "DP_210416B_green_prop = DP_210416B.green_only_prop\n",
    "DP_210417_green_prop = DP_210417.green_only_prop\n",
    "\n",
    "\n",
    "DP_210202A_red_prop = DP_210202A.red_only_prop\n",
    "DP_210202B_red_prop = DP_210202B.red_only_prop\n",
    "DP_210202C_red_prop = DP_210202C.red_only_prop\n",
    "DP_210202D_red_prop = DP_210202D.red_only_prop\n",
    "DP_210203A_red_prop = DP_210203A.red_only_prop\n",
    "DP_210203B_red_prop = DP_210203B.red_only_prop\n",
    "DP_210308A_red_prop = DP_210308A.red_only_prop\n",
    "DP_210308B_red_prop = DP_210308B.red_only_prop\n",
    "DP_210308C_red_prop = DP_210308C.red_only_prop\n",
    "DP_210416A_red_prop = DP_210416A.red_only_prop\n",
    "DP_210416B_red_prop = DP_210416B.red_only_prop\n",
    "DP_210417_red_prop = DP_210417.red_only_prop\n"
   ]
  },
  {
   "cell_type": "markdown",
   "metadata": {},
   "source": [
    "#### Plot a bar graph with these proportions, sorted by mouse. Report the total number of cells counted in each mouse below the X-axis label:"
   ]
  },
  {
   "cell_type": "code",
   "execution_count": 7,
   "metadata": {},
   "outputs": [
    {
     "data": {
      "image/png": "[encoded data removed]",
      "text/plain": [
       "<Figure size 792x432 with 1 Axes>"
      ]
     },
     "metadata": {
      "needs_background": "light"
     },
     "output_type": "display_data"
    }
   ],
   "source": [
    "labels = ['DP_210202A \\n {}'.format(int(DP_210202A.total_cells)), 'DP_210202B \\n {}'.format(int(DP_210202B.total_cells)), \n",
    "          'DP_210202C \\n {}'.format(int(DP_210202C.total_cells)), 'DP_210202D \\n {}'.format(int(DP_210202D.total_cells)), \n",
    "          'DP_210203A \\n {}'.format(int(DP_210203A.total_cells)), 'DP_210203B \\n {}'.format(int(DP_210203B.total_cells)), \n",
    "          'DP_210308A \\n {}'.format(int(DP_210308A.total_cells)), 'DP_210308B \\n {}'.format(int(DP_210308B.total_cells)), \n",
    "          'DP_210308C \\n {}'.format(int(DP_210308C.total_cells)), 'DP_210416A \\n {}'.format(int(DP_210416A.total_cells)),\n",
    "          'DP_210416B \\n {}'.format(int(DP_210416B.total_cells)), 'DP_210417 \\n {}'.format(int(DP_210417.total_cells))]\n",
    "gfp_props = [DP_210202A_green_prop, DP_210202B_green_prop, DP_210202C_green_prop, \n",
    "             DP_210202D_green_prop, DP_210203A_green_prop, DP_210203B_green_prop,\n",
    "             DP_210308A_green_prop, DP_210308B_green_prop, DP_210308C_green_prop,\n",
    "             DP_210416A_green_prop, DP_210416B_green_prop, DP_210417_green_prop]\n",
    "tom_props = [DP_210202A_red_prop, DP_210202B_red_prop, DP_210202C_red_prop, \n",
    "             DP_210202D_red_prop, DP_210203A_red_prop, DP_210203B_red_prop,\n",
    "             DP_210308A_red_prop, DP_210308B_red_prop, DP_210308C_red_prop,\n",
    "             DP_210416A_red_prop, DP_210416B_red_prop, DP_210417_red_prop]\n",
    "\n",
    "gfp_err = [mouse.green_std for mouse in [DP_210202A, DP_210202B, DP_210202C, DP_210202D, DP_210203A, DP_210203B,\n",
    "                                         DP_210308A, DP_210308B, DP_210308C, DP_210416A, DP_210416B, DP_210417]]\n",
    "tom_err = [mouse.red_std for mouse in [DP_210202A, DP_210202B, DP_210202C, DP_210202D, DP_210203A, DP_210203B,\n",
    "                                         DP_210308A, DP_210308B, DP_210308C, DP_210416A, DP_210416B, DP_210417]]\n",
    "\n",
    "x = np.arange(len(labels))\n",
    "width = 0.3\n",
    "\n",
    "fig, ax = plt.subplots()\n",
    "fig.set_size_inches(11,6)\n",
    "set1 =  ax.bar(x - width/2, gfp_props, width, yerr=gfp_err, label='GFP-only', color='limegreen')\n",
    "set2 = ax.bar(x + width/2, tom_props, width, yerr=tom_err, label='TOM-only', color='red')\n",
    "\n",
    "ax.set_ylabel('Proportion')\n",
    "ax.set_xlabel('Mouse')\n",
    "ax.set_title('Proportion single-labeled cells by mouse')\n",
    "ax.set_xticks(x)\n",
    "ax.set_xticklabels(labels, fontdict ={'fontsize': 8.5})\n",
    "ax.legend()\n",
    "\n",
    "fig.tight_layout()\n",
    "\n",
    "plt.show()"
   ]
  },
  {
   "cell_type": "markdown",
   "metadata": {},
   "source": [
    "#### Plot the same graph, but without error bars:"
   ]
  },
  {
   "cell_type": "code",
   "execution_count": 8,
   "metadata": {},
   "outputs": [
    {
     "data": {
      "image/png": "[encoded data removed]",
      "text/plain": [
       "<Figure size 720x432 with 1 Axes>"
      ]
     },
     "metadata": {
      "needs_background": "light"
     },
     "output_type": "display_data"
    }
   ],
   "source": [
    "labels = ['DP_210202A', 'DP_210202B', 'DP_210202C', 'DP_210202D', 'DP_210203A', 'DP_210203B', 'DP_210308A',\n",
    "          'DP_210308B', 'DP_210308C', 'DP_210416A', 'DP_210416B', 'DP_210417']\n",
    "gfp_props = [DP_210202A_green_prop, DP_210202B_green_prop, DP_210202C_green_prop, \n",
    "             DP_210202D_green_prop, DP_210203A_green_prop, DP_210203B_green_prop,\n",
    "             DP_210308A_green_prop, DP_210308B_green_prop, DP_210308C_green_prop,\n",
    "             DP_210416A_green_prop, DP_210416B_green_prop, DP_210417_green_prop]\n",
    "tom_props = [DP_210202A_red_prop, DP_210202B_red_prop, DP_210202C_red_prop, \n",
    "             DP_210202D_red_prop, DP_210203A_red_prop, DP_210203B_red_prop,\n",
    "             DP_210308A_red_prop, DP_210308B_red_prop, DP_210308C_red_prop,\n",
    "             DP_210416A_red_prop, DP_210416B_red_prop, DP_210417_red_prop]\n",
    "\n",
    "x = np.arange(len(labels))\n",
    "width = 0.35\n",
    "\n",
    "fig, ax = plt.subplots()\n",
    "fig.set_size_inches(10,6)\n",
    "set1 =  ax.bar(x - width/2, gfp_props, width, label='GFP-only', color='limegreen')\n",
    "set2 = ax.bar(x + width/2, tom_props, width, label='TOM-only', color='red')\n",
    "\n",
    "ax.set_ylabel('Proportion')\n",
    "ax.set_xlabel('Mouse')\n",
    "ax.set_title('Proportion single-labeled cells by mouse')\n",
    "ax.set_xticks(x)\n",
    "ax.set_xticklabels(labels, fontdict ={'fontsize': 7.5})\n",
    "ax.legend()\n",
    "\n",
    "fig.tight_layout()\n",
    "\n",
    "plt.show()\n"
   ]
  },
  {
   "cell_type": "markdown",
   "metadata": {},
   "source": [
    "#### Plot a bar graph with these proportions by condition or dosage; average across mice:"
   ]
  },
  {
   "cell_type": "code",
   "execution_count": 9,
   "metadata": {},
   "outputs": [
    {
     "data": {
      "image/png": "[encoded data removed]",
      "text/plain": [
       "<Figure size 432x288 with 1 Axes>"
      ]
     },
     "metadata": {
      "needs_background": "light"
     },
     "output_type": "display_data"
    },
    {
     "name": "stdout",
     "output_type": "stream",
     "text": [
      "50x2 GFP-only avg + std: 0.1793537347426953, 0.03277407017710101\n",
      "100x1 GFP-only avg + std: 0.1805540720939703, 0.07588189771412267\n",
      "100x2 GFP-only avg + std: 0.11042280432012547, 0.029757920454111738\n",
      "200x1 GFP-only avg + std: 0.1911353922731998, 0.0030794837598580177\n"
     ]
    }
   ],
   "source": [
    "labels = ['50mg/kg 2x', '100mg/kg 1x', '100mg/kg 2x', '200mg/kg 1x']\n",
    "gfp_props = [np.average([DP_210202A_green_prop, DP_210202B_green_prop, DP_210202C_green_prop]), \n",
    "             np.average([DP_210202D_green_prop, DP_210203A_green_prop, DP_210203B_green_prop]),\n",
    "             np.average([DP_210308A_green_prop, DP_210308B_green_prop, DP_210308C_green_prop, \n",
    "                         DP_210417_green_prop]),\n",
    "             np.average([DP_210416A_green_prop, DP_210416B_green_prop])]\n",
    "\n",
    "\n",
    "tom_props = [np.average([DP_210202A_red_prop, DP_210202B_red_prop, DP_210202C_red_prop]), \n",
    "             np.average([DP_210202D_red_prop, DP_210203A_red_prop, DP_210203B_red_prop]),\n",
    "             np.average([DP_210308A_red_prop, DP_210308B_red_prop, DP_210308C_red_prop,\n",
    "                         DP_210417_red_prop]),\n",
    "             np.average([DP_210416A_red_prop, DP_210416B_red_prop])]\n",
    "\n",
    "x = np.arange(len(labels))\n",
    "width = 0.35\n",
    "\n",
    "gfp_err = [np.std([DP_210202A_green_prop, DP_210202B_green_prop, DP_210202C_green_prop]), \n",
    "           np.std([DP_210202D_green_prop, DP_210203A_green_prop, DP_210203B_green_prop]),\n",
    "           np.std([DP_210308A_green_prop, DP_210308B_green_prop, DP_210308C_green_prop,\n",
    "                    DP_210417_green_prop]),\n",
    "           np.std([DP_210416A_green_prop, DP_210416B_green_prop])]\n",
    "\n",
    "tom_err = [np.std([DP_210202A_red_prop, DP_210202B_red_prop, DP_210202C_red_prop]), \n",
    "           np.std([DP_210202D_red_prop, DP_210203A_red_prop, DP_210203B_red_prop]),\n",
    "           np.std([DP_210308A_red_prop, DP_210308B_red_prop, DP_210308C_red_prop,\n",
    "                    DP_210417_red_prop]),\n",
    "           np.std([DP_210416A_red_prop, DP_210416B_red_prop])]\n",
    "\n",
    "fig, ax = plt.subplots()\n",
    "set1 =  ax.bar(x - width/2, gfp_props, width, yerr=gfp_err, label='GFP-only', color='limegreen')\n",
    "set2 = ax.bar(x + width/2, tom_props, width, yerr=tom_err, label='TOM-only', color='red')\n",
    "\n",
    "ax.set_ylabel('Proportion')\n",
    "ax.set_xlabel('4OHT condition')\n",
    "ax.set_title('Proportion single-labeled cells by condition \\n Avg over mice')\n",
    "ax.set_xticks(x)\n",
    "ax.set_xticklabels(labels, fontdict ={'fontsize':8})\n",
    "ax.legend()\n",
    "\n",
    "fig.tight_layout()\n",
    "\n",
    "plt.show()\n",
    "print ('50x2 GFP-only avg + std: {} {}'.format(str(gfp_props[0]) + ',', gfp_err[0]))\n",
    "print ('100x1 GFP-only avg + std: {} {}'.format(str(gfp_props[1]) + ',', gfp_err[1]))\n",
    "print ('100x2 GFP-only avg + std: {} {}'.format(str(gfp_props[2]) + ',', gfp_err[2]))\n",
    "print ('200x1 GFP-only avg + std: {} {}'.format(str(gfp_props[3]) + ',', gfp_err[3]))"
   ]
  },
  {
   "cell_type": "markdown",
   "metadata": {},
   "source": [
    "#### Plot a bar graph with these proportions by condition or dosage; use the whole cell population from the group:"
   ]
  },
  {
   "cell_type": "code",
   "execution_count": 10,
   "metadata": {},
   "outputs": [
    {
     "data": {
      "image/png": "[encoded data removed]",
      "text/plain": [
       "<Figure size 432x288 with 1 Axes>"
      ]
     },
     "metadata": {
      "needs_background": "light"
     },
     "output_type": "display_data"
    },
    {
     "name": "stdout",
     "output_type": "stream",
     "text": [
      "50x2 GFP-only avg + std: 0.17921146953405018, 0.03277407017710101\n",
      "100x1 GFP-only avg + std: 0.1976697468862997, 0.07588189771412267\n",
      "100x2 GFP-only avg + std: 0.09841574651944311, 0.029757920454111738\n",
      "200x1 GFP-only avg + std: 0.19101123595505617, 0.0030794837598580177\n"
     ]
    }
   ],
   "source": [
    "gfp_50x2 = np.sum([DP_210202A.green_cells, DP_210202B.green_cells, DP_210202C.green_cells]) / np.sum([DP_210202A.total_cells, DP_210202B.total_cells, DP_210202C.total_cells])\n",
    "gfp_100x1 = np.sum([DP_210202D.green_cells, DP_210203A.green_cells, DP_210203B.green_cells]) /np.sum([DP_210202D.total_cells, DP_210203A.total_cells, DP_210203B.total_cells])\n",
    "gfp_100x2 = np.sum([DP_210308A.green_cells, DP_210308B.green_cells, DP_210308C.green_cells, DP_210417.green_cells]) / np.sum([DP_210308A.total_cells, DP_210308B.total_cells, DP_210308C.total_cells, DP_210417.total_cells])\n",
    "gfp_200x1 = np.sum([DP_210416A.green_cells, DP_210416B.green_cells]) /  np.sum([DP_210416A.total_cells, DP_210416B.total_cells])\n",
    "\n",
    "tom_50x2 = np.sum([DP_210202A.red_cells, DP_210202B.red_cells, DP_210202C.red_cells]) / np.sum([DP_210202A.total_cells, DP_210202B.total_cells, DP_210202C.total_cells])\n",
    "tom_100x1 = np.sum([DP_210202D.red_cells, DP_210203A.red_cells, DP_210203B.red_cells]) /np.sum([DP_210202D.total_cells, DP_210203A.total_cells, DP_210203B.total_cells])\n",
    "tom_100x2 = np.sum([DP_210308A.red_cells, DP_210308B.red_cells, DP_210308C.red_cells, DP_210417.red_cells]) / np.sum([DP_210308A.total_cells, DP_210308B.total_cells, DP_210308C.total_cells, DP_210417.total_cells])\n",
    "tom_200x1 = np.sum([DP_210416A.red_cells, DP_210416B.red_cells]) /  np.sum([DP_210416A.total_cells, DP_210417.total_cells])\n",
    "\n",
    "labels = ['50mg/kg 2x', '100mg/kg 1x', '100mg/kg 2x', '200mg/kg 1x']\n",
    "gfp_props = [gfp_50x2, gfp_100x1, gfp_100x2, gfp_200x1] \n",
    "\n",
    "tom_props = [tom_50x2, tom_100x1, tom_100x2, tom_200x1]\n",
    "\n",
    "x = np.arange(len(labels))\n",
    "width = 0.35\n",
    "\n",
    "gfp_err = [np.std([DP_210202A_green_prop, DP_210202B_green_prop, DP_210202C_green_prop]), \n",
    "           np.std([DP_210202D_green_prop, DP_210203A_green_prop, DP_210203B_green_prop]),\n",
    "           np.std([DP_210308A_green_prop, DP_210308B_green_prop, DP_210308C_green_prop, DP_210417_green_prop]),\n",
    "           np.std([DP_210416A_green_prop, DP_210416B_green_prop])]\n",
    "\n",
    "tom_err = [np.std([DP_210202A_red_prop, DP_210202B_red_prop, DP_210202C_red_prop]), \n",
    "           np.std([DP_210202D_red_prop, DP_210203A_red_prop, DP_210203B_red_prop]),\n",
    "           np.std([DP_210308A_red_prop, DP_210308B_red_prop, DP_210308C_red_prop, DP_210417_red_prop]),\n",
    "           np.std([DP_210416A_red_prop, DP_210416B_red_prop])]\n",
    "\n",
    "fig, ax = plt.subplots()\n",
    "set1 =  ax.bar(x - width/2, gfp_props, width, yerr=gfp_err, label='GFP-only', color='limegreen')\n",
    "set2 = ax.bar(x + width/2, tom_props, width, yerr=tom_err, label='TOM-only', color='red')\n",
    "\n",
    "ax.set_ylabel('Proportion')\n",
    "ax.set_xlabel('4OHT condition')\n",
    "ax.set_title('Proportion single-labeled cells by condition \\n Avg across all cells')\n",
    "ax.set_xticks(x)\n",
    "ax.set_xticklabels(labels, fontdict ={'fontsize':8})\n",
    "ax.legend()\n",
    "\n",
    "fig.tight_layout()\n",
    "\n",
    "plt.show()    \n",
    "print ('50x2 GFP-only avg + std: {} {}'.format(str(gfp_props[0]) + ',', gfp_err[0]))\n",
    "print ('100x1 GFP-only avg + std: {} {}'.format(str(gfp_props[1]) + ',', gfp_err[1]))\n",
    "print ('100x2 GFP-only avg + std: {} {}'.format(str(gfp_props[2]) + ',', gfp_err[2]))\n",
    "print ('200x1 GFP-only avg + std: {} {}'.format(str(gfp_props[3]) + ',', gfp_err[3]))"
   ]
  },
  {
   "cell_type": "markdown",
   "metadata": {},
   "source": [
    "#### Plot correlation between total number of cells in a slice, and proportion single-labeled cells:"
   ]
  },
  {
   "cell_type": "code",
   "execution_count": 11,
   "metadata": {},
   "outputs": [
    {
     "data": {
      "text/plain": [
       "Text(0.5, 0, 'Total labeled cell count')"
      ]
     },
     "execution_count": 11,
     "metadata": {},
     "output_type": "execute_result"
    },
    {
     "data": {
      "image/png": "[encoded data removed]",
      "text/plain": [
       "<Figure size 432x288 with 1 Axes>"
      ]
     },
     "metadata": {
      "needs_background": "light"
     },
     "output_type": "display_data"
    }
   ],
   "source": [
    "sub_df = all_mice_df[['total_cell_count','green_only_proportion','red_only_proportion']]\n",
    "filtered_df = sub_df[sub_df['green_only_proportion'].notna()]\n",
    "\n",
    "total_cells = list(filtered_df['total_cell_count'])\n",
    "green_prop = list(filtered_df['green_only_proportion'])\n",
    "red_prop = list(filtered_df['red_only_proportion'])\n",
    "fig, ax = plt.subplots()\n",
    "for fluo, color in zip(['green_only_proportion', 'red_only_proportion'], ['limegreen','red']):\n",
    "   x, y = total_cells, filtered_df[fluo]\n",
    "   ax.scatter(x ,y, label=fluo, c=color, s=6)\n",
    "ax.legend(loc='upper right', fontsize='small')\n",
    "for label in (ax.get_xticklabels() + ax.get_yticklabels()):\n",
    "    label.set_fontsize(8)\n",
    "ax.set_title('Proportion single-labeled cells by total cells in slice')\n",
    "ax.set_xlabel('Total labeled cell count')"
   ]
  },
  {
   "cell_type": "markdown",
   "metadata": {},
   "source": [
    "#### Plot a bar graph; group by number of injections:"
   ]
  },
  {
   "cell_type": "code",
   "execution_count": 12,
   "metadata": {},
   "outputs": [
    {
     "data": {
      "image/png": "[encoded data removed]",
      "text/plain": [
       "<Figure size 432x288 with 1 Axes>"
      ]
     },
     "metadata": {
      "needs_background": "light"
     },
     "output_type": "display_data"
    },
    {
     "name": "stdout",
     "output_type": "stream",
     "text": [
      "One-inj GFP-only avg + std: 0.18478660016566212, 0.059038141648643766\n",
      "Two-inj GFP-only avg + std: 0.13996463164408396, 0.046151825412323336\n"
     ]
    }
   ],
   "source": [
    "labels = ['One Day', 'Two Days']\n",
    "gfp_props = [np.average([DP_210202D_green_prop, DP_210203A_green_prop, DP_210203B_green_prop, DP_210416A_green_prop, DP_210416B_green_prop]),\n",
    "             np.average([DP_210202A_green_prop, DP_210202B_green_prop, DP_210202C_green_prop, DP_210308A_green_prop, DP_210308B_green_prop, DP_210308C_green_prop, \n",
    "                         DP_210417_green_prop])]\n",
    "       \n",
    "\n",
    "tom_props = [np.average([DP_210202D_red_prop, DP_210203A_red_prop, DP_210203B_red_prop, DP_210416A_red_prop, DP_210416B_red_prop]),\n",
    "             np.average([DP_210202A_red_prop, DP_210202B_red_prop, DP_210202C_red_prop, DP_210308A_red_prop, DP_210308B_red_prop, DP_210308C_red_prop, \n",
    "                         DP_210417_red_prop])]\n",
    "x = np.arange(len(labels))\n",
    "width = 0.35\n",
    "\n",
    "gfp_err = [np.std([DP_210202D_green_prop, DP_210203A_green_prop, DP_210203B_green_prop, DP_210416A_green_prop, DP_210416B_green_prop]),\n",
    "             np.std([DP_210202A_green_prop, DP_210202B_green_prop, DP_210202C_green_prop, DP_210308A_green_prop, DP_210308B_green_prop, DP_210308C_green_prop, \n",
    "                         DP_210417_green_prop])]\n",
    "\n",
    "tom_err = [np.std([DP_210202D_red_prop, DP_210203A_red_prop, DP_210203B_red_prop, DP_210416A_red_prop, DP_210416B_red_prop]),\n",
    "             np.std([DP_210202A_red_prop, DP_210202B_red_prop, DP_210202C_red_prop, DP_210308A_red_prop, DP_210308B_red_prop, DP_210308C_red_prop, \n",
    "                         DP_210417_red_prop])]\n",
    "\n",
    "fig, ax = plt.subplots()\n",
    "set1 =  ax.bar(x - width/2, gfp_props, width, yerr=gfp_err, label='GFP-only', color='limegreen')\n",
    "set2 = ax.bar(x + width/2, tom_props, width, yerr=tom_err, label='TOM-only', color='red')\n",
    "\n",
    "ax.set_ylabel('Proportion')\n",
    "ax.set_xlabel('Number of Days with Injections')\n",
    "ax.set_title('Proportion single-labeled cells by number of treatment days')\n",
    "ax.set_xticks(x)\n",
    "ax.set_xticklabels(labels, fontdict ={'fontsize':8})\n",
    "ax.legend()\n",
    "\n",
    "fig.tight_layout()\n",
    "\n",
    "plt.show()\n",
    "\n",
    "print ('One-inj GFP-only avg + std: {} {}'.format(str(gfp_props[0]) + ',', gfp_err[0]))\n",
    "print ('Two-inj GFP-only avg + std: {} {}'.format(str(gfp_props[1]) + ',', gfp_err[1]))"
   ]
  },
  {
   "cell_type": "markdown",
   "metadata": {},
   "source": [
    "#### Plot a bar graph; group by total dose (disregard number of injections):"
   ]
  },
  {
   "cell_type": "code",
   "execution_count": 13,
   "metadata": {},
   "outputs": [
    {
     "data": {
      "image/png": "[encoded data removed]",
      "text/plain": [
       "<Figure size 432x288 with 1 Axes>"
      ]
     },
     "metadata": {
      "needs_background": "light"
     },
     "output_type": "display_data"
    },
    {
     "name": "stdout",
     "output_type": "stream",
     "text": [
      "100mg/kg GFP-only avg + std: 0.17995390341833284, 0.058450502485216285\n",
      "200mg/kg GFP-only avg + std: 0.13732700030448358, 0.0451795139752603\n"
     ]
    }
   ],
   "source": [
    "labels = ['100mg/kg', '200mg/kg']\n",
    "\n",
    "gfp_props = [np.average([DP_210202A_green_prop, DP_210202B_green_prop, DP_210202C_green_prop, \n",
    "                         DP_210202D_green_prop, DP_210203A_green_prop, DP_210203B_green_prop]),\n",
    "             np.average([DP_210308A_green_prop, DP_210308B_green_prop, DP_210308C_green_prop, \n",
    "                         DP_210417_green_prop, DP_210416A_green_prop, DP_210416B_green_prop])]\n",
    "\n",
    "\n",
    "tom_props = [np.average([DP_210202A_red_prop, DP_210202B_red_prop, DP_210202C_red_prop, \n",
    "                         DP_210202D_red_prop, DP_210203A_red_prop, DP_210203B_red_prop]),\n",
    "             np.average([DP_210308A_red_prop, DP_210308B_red_prop, DP_210308C_red_prop,\n",
    "                         DP_210417_red_prop, DP_210416A_red_prop, DP_210416B_red_prop])]\n",
    "\n",
    "x = np.arange(len(labels))\n",
    "\n",
    "width = 0.35\n",
    "\n",
    "gfp_err = [np.std([DP_210202A_green_prop, DP_210202B_green_prop, DP_210202C_green_prop, \n",
    "                         DP_210202D_green_prop, DP_210203A_green_prop, DP_210203B_green_prop]),\n",
    "           np.std([DP_210308A_green_prop, DP_210308B_green_prop, DP_210308C_green_prop, \n",
    "                         DP_210417_green_prop, DP_210416A_green_prop, DP_210416B_green_prop])]\n",
    "\n",
    "tom_err = [np.std([DP_210202A_red_prop, DP_210202B_red_prop, DP_210202C_red_prop, \n",
    "                         DP_210202D_red_prop, DP_210203A_red_prop, DP_210203B_red_prop]),\n",
    "           np.std([DP_210308A_red_prop, DP_210308B_red_prop, DP_210308C_red_prop,\n",
    "                         DP_210417_red_prop, DP_210416A_red_prop, DP_210416B_red_prop])]\n",
    "\n",
    "fig, ax = plt.subplots()\n",
    "set1 =  ax.bar(x - width/2, gfp_props, width, yerr=gfp_err, label='GFP-only', color='limegreen')\n",
    "set2 = ax.bar(x + width/2, tom_props, width, yerr=tom_err, label='TOM-only', color='red')\n",
    "\n",
    "ax.set_ylabel('Proportion')\n",
    "ax.set_xlabel('Total dose 4OHT')\n",
    "ax.set_title('Proportion single-labeled cells by total dose of 4OHT')\n",
    "ax.set_xticks(x)\n",
    "ax.set_xticklabels(labels, fontdict ={'fontsize':8})\n",
    "ax.legend()\n",
    "\n",
    "fig.tight_layout()\n",
    "\n",
    "plt.show()\n",
    "\n",
    "print ('100mg/kg GFP-only avg + std: {} {}'.format(str(gfp_props[0]) + ',', gfp_err[0]))\n",
    "print ('200mg/kg GFP-only avg + std: {} {}'.format(str(gfp_props[1]) + ',', gfp_err[1]))"
   ]
  },
  {
   "cell_type": "markdown",
   "metadata": {},
   "source": [
    "#### Plot a bar graph to show overall average across all mice:"
   ]
  },
  {
   "cell_type": "code",
   "execution_count": 14,
   "metadata": {},
   "outputs": [
    {
     "data": {
      "image/png": "[encoded data removed]",
      "text/plain": [
       "<Figure size 432x288 with 1 Axes>"
      ]
     },
     "metadata": {
      "needs_background": "light"
     },
     "output_type": "display_data"
    },
    {
     "name": "stdout",
     "output_type": "stream",
     "text": [
      "GFP-only avg + std: 0.1586404518614082, 0.0564188627958494\n"
     ]
    }
   ],
   "source": [
    "labels = ['All Mice, All Conditions']\n",
    "gfp_props = [np.average([DP_210202A_green_prop, DP_210202B_green_prop, DP_210202C_green_prop, \n",
    "                         DP_210202D_green_prop, DP_210203A_green_prop, DP_210203B_green_prop, \n",
    "                         DP_210308A_green_prop, DP_210308B_green_prop, DP_210308C_green_prop, \n",
    "                         DP_210417_green_prop, DP_210416A_green_prop, DP_210416B_green_prop])]\n",
    "\n",
    "\n",
    "tom_props = [np.average([DP_210202A_red_prop, DP_210202B_red_prop, DP_210202C_red_prop, \n",
    "                         DP_210202D_red_prop, DP_210203A_red_prop, DP_210203B_red_prop, \n",
    "                         DP_210308A_red_prop, DP_210308B_red_prop, DP_210308C_red_prop,\n",
    "                         DP_210417_red_prop, DP_210416A_red_prop, DP_210416B_red_prop])]\n",
    "\n",
    "x = np.arange(len(labels))\n",
    "\n",
    "width = 0.35\n",
    "gfp_err = [np.std([DP_210202A_green_prop, DP_210202B_green_prop, DP_210202C_green_prop, \n",
    "                         DP_210202D_green_prop, DP_210203A_green_prop, DP_210203B_green_prop, \n",
    "                         DP_210308A_green_prop, DP_210308B_green_prop, DP_210308C_green_prop, \n",
    "                         DP_210417_green_prop, DP_210416A_green_prop, DP_210416B_green_prop])]\n",
    "\n",
    "tom_err = [np.std([DP_210202A_red_prop, DP_210202B_red_prop, DP_210202C_red_prop, \n",
    "                         DP_210202D_red_prop, DP_210203A_red_prop, DP_210203B_red_prop, \n",
    "                         DP_210308A_red_prop, DP_210308B_red_prop, DP_210308C_red_prop,\n",
    "                         DP_210417_red_prop, DP_210416A_red_prop, DP_210416B_red_prop])]\n",
    "\n",
    "fig, ax = plt.subplots()\n",
    "set1 =  ax.bar(x - width/2, gfp_props, width, yerr=gfp_err,  label='GFP-only', color='limegreen')\n",
    "set2 = ax.bar(x + width/2, tom_props, width, yerr=tom_err, label='TOM-only', color='red')\n",
    "\n",
    "ax.set_ylabel('Proportion')\n",
    "ax.set_title('Proportion single-labeled cells')\n",
    "ax.set_xticks(x)\n",
    "ax.set_xticklabels(labels, fontdict ={'fontsize':8})\n",
    "ax.legend()\n",
    "\n",
    "fig.tight_layout()\n",
    "\n",
    "plt.show()\n",
    "\n",
    "print ('GFP-only avg + std: {} {}'.format(str(gfp_props[0]) + ',', gfp_err[0]))"
   ]
  },
  {
   "cell_type": "code",
   "execution_count": null,
   "metadata": {},
   "outputs": [],
   "source": []
  },
  {
   "cell_type": "code",
   "execution_count": null,
   "metadata": {},
   "outputs": [],
   "source": []
  }
 ],
 "metadata": {
  "kernelspec": {
   "display_name": "Python 3",
   "language": "python",
   "name": "python3"
  },
  "language_info": {
   "codemirror_mode": {
    "name": "ipython",
    "version": 3
   },
   "file_extension": ".py",
   "mimetype": "text/x-python",
   "name": "python",
   "nbconvert_exporter": "python",
   "pygments_lexer": "ipython3",
   "version": "3.8.3"
  }
 },
 "nbformat": 4,
 "nbformat_minor": 4
}
